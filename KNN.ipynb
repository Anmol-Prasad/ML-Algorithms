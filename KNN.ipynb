{
 "cells": [
  {
   "cell_type": "code",
   "execution_count": 6,
   "id": "1d34f664",
   "metadata": {},
   "outputs": [],
   "source": [
    "import numpy as np"
   ]
  },
  {
   "cell_type": "code",
   "execution_count": 78,
   "id": "d8c97ec3",
   "metadata": {},
   "outputs": [],
   "source": [
    "#Euclidean Distance\n",
    "def EuclidDis(row1, row2):\n",
    "    distance = 0\n",
    "    for i in range(len(row1)-1):\n",
    "        distance+= (row1[i] - row2[i])**2\n",
    "    return distance**0.5  \n",
    "\n",
    "#Returning the 'k' nearest neighbours with shortest distance\n",
    "def NearestNeighbours(train_data, test_data, k):\n",
    "    distance = []\n",
    "    for train_rows in train_data:\n",
    "        distance.append(EuclidDis(train_rows, test_data))\n",
    "    disindex = np.array(distance).argsort() \n",
    "    newdata = np.array(train_data)\n",
    "    return newdata[disindex][:k]\n",
    "\n",
    "#Making the prediction on the basis of most popular answer of 'k' Nearest Neighbours\n",
    "def predKNN(train_data, test_data, k):\n",
    "    knNeighbours = NearestNeighbours(train_data, test_data, k)\n",
    "    Result = []\n",
    "    for i in knNeighbours:\n",
    "         Result.append(i[-1])\n",
    "    prediction = max(Result, key=Result.count)        \n",
    "    return prediction     "
   ]
  },
  {
   "cell_type": "code",
   "execution_count": 80,
   "id": "6da21258",
   "metadata": {},
   "outputs": [
    {
     "data": {
      "text/plain": [
       "1.0"
      ]
     },
     "execution_count": 80,
     "metadata": {},
     "output_type": "execute_result"
    }
   ],
   "source": [
    "dataset = [\n",
    "    [2.7810836,2.550537003,0],\n",
    "    [1.465489372,2.362125076,0],\n",
    "    [3.396561688,4.400293529,0],\n",
    "    [1.38807019,1.850220317,0],\n",
    "    [3.06407232,3.005305973,0],\n",
    "    [7.627531214,2.759262235,1],\n",
    "    [5.332441248,2.088626775,1],\n",
    "    [6.922596716,1.77106367,1],\n",
    "    [8.675418651,-0.242068655,1],\n",
    "    [7.673756466,3.508563011,1]\n",
    "]\n",
    "test =  [7.3,5.362125076]\n",
    "predKNN(dataset, test, 3)"
   ]
  },
  {
   "cell_type": "code",
   "execution_count": 76,
   "id": "16191313",
   "metadata": {},
   "outputs": [],
   "source": []
  },
  {
   "cell_type": "code",
   "execution_count": 77,
   "id": "c324e734",
   "metadata": {},
   "outputs": [
    {
     "data": {
      "text/plain": [
       "0.0"
      ]
     },
     "execution_count": 77,
     "metadata": {},
     "output_type": "execute_result"
    }
   ],
   "source": []
  }
 ],
 "metadata": {
  "kernelspec": {
   "display_name": "Python 3 (ipykernel)",
   "language": "python",
   "name": "python3"
  },
  "language_info": {
   "codemirror_mode": {
    "name": "ipython",
    "version": 3
   },
   "file_extension": ".py",
   "mimetype": "text/x-python",
   "name": "python",
   "nbconvert_exporter": "python",
   "pygments_lexer": "ipython3",
   "version": "3.9.7"
  }
 },
 "nbformat": 4,
 "nbformat_minor": 5
}
