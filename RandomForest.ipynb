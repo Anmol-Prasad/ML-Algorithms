{
 "cells": [
  {
   "cell_type": "code",
   "execution_count": 39,
   "id": "d0c2a8bd",
   "metadata": {},
   "outputs": [],
   "source": [
    "import DecisionTree"
   ]
  },
  {
   "cell_type": "code",
   "execution_count": 40,
   "id": "981c6d89",
   "metadata": {},
   "outputs": [],
   "source": [
    "from DecisionTree import DecisionTree"
   ]
  },
  {
   "cell_type": "code",
   "execution_count": 41,
   "id": "2ace7fa8",
   "metadata": {},
   "outputs": [],
   "source": [
    "import numpy as np\n",
    "from collections import Counter"
   ]
  },
  {
   "cell_type": "code",
   "execution_count": 42,
   "id": "6e0d7300",
   "metadata": {},
   "outputs": [],
   "source": [
    "# Bootstrapping Training Data\n",
    "def randomData(X,y):\n",
    "    nSamples = X.shape[0]\n",
    "    indices = np.random.choice(nSamples, nSamples, replace=True)\n",
    "    return X[indices], y[indices]\n",
    "\n",
    "def mostCommonResult(y):\n",
    "    counter = Counter(y)\n",
    "    return counter.most_common(1)[0][0].flatten()"
   ]
  },
  {
   "cell_type": "code",
   "execution_count": 43,
   "id": "7daef637",
   "metadata": {},
   "outputs": [],
   "source": [
    "class RandomForest:\n",
    "    def __init__(self, nTrees=5, minSamples=2, maxDepth=50, nFeatures=None):\n",
    "        self.nTrees = nTrees\n",
    "        self.minSamples = minSamples\n",
    "        self.maxDepth = maxDepth\n",
    "        self.nFeatures = nFeatures\n",
    "        self.trees = []\n",
    "        \n",
    "    def trainData(self, X, y):\n",
    "        self.trees = []\n",
    "        for i in range(self.nTrees):\n",
    "            tree = DecisionTree(\n",
    "            minSamples = self.minSamples,\n",
    "            maxDepth = self.maxDepth,\n",
    "            nFeatures = self.nFeatures\n",
    "            )\n",
    "            Xrandom, Yrandom = randomData(X,y) Random Training Data fed to create \n",
    "            tree.newNode(Xrandom, Yrandom)\n",
    "            self.trees.append(tree)\n",
    "            \n",
    "    def predict(self,X):\n",
    "        treePrediction = np.array([tree.predict(X) for tree in self.trees])\n",
    "#         treePrediction Gives the answers of all the individial datas \n",
    "#         eg. 1111 0000 1111\n",
    "#         and swapaxes converts it into a 2D array by changing rows and columns for every item \n",
    "        treePrediction = np.swapaxes(treePrediction, 0, 1)\n",
    "        y_Prediction = [mostCommonResult(trees) for trees in treePrediction]\n",
    "        return np.array(y_Prediction)      \n",
    "        "
   ]
  },
  {
   "cell_type": "code",
   "execution_count": 44,
   "id": "8c7eeae0",
   "metadata": {},
   "outputs": [
    {
     "name": "stdout",
     "output_type": "stream",
     "text": [
      "Accuracy: 69.0\n"
     ]
    }
   ],
   "source": [
    "if __name__ == \"__main__\":\n",
    "    # Imports\n",
    "    from sklearn import datasets\n",
    "    from sklearn.model_selection import train_test_split\n",
    "\n",
    "    def accuracy(y_true, y_pred):\n",
    "        accuracy = np.sum(y_true == y_pred) / len(y_true)\n",
    "        return accuracy\n",
    "\n",
    "    data = datasets.load_breast_cancer()\n",
    "    X = data.data\n",
    "    y = data.target\n",
    "\n",
    "    X_train, X_test, y_train, y_test = train_test_split(\n",
    "        X, y, test_size=0.2, random_state=1234\n",
    "    )\n",
    "\n",
    "    clf = RandomForest(nTrees=3, maxDepth=10)\n",
    "\n",
    "    clf.trainData(X_train, y_train)\n",
    "    y_pred = clf.predict(X_test)\n",
    "    acc = accuracy(y_test, y_pred)\n",
    "\n",
    "    print(\"Accuracy:\", acc)"
   ]
  }
 ],
 "metadata": {
  "kernelspec": {
   "display_name": "Python 3 (ipykernel)",
   "language": "python",
   "name": "python3"
  },
  "language_info": {
   "codemirror_mode": {
    "name": "ipython",
    "version": 3
   },
   "file_extension": ".py",
   "mimetype": "text/x-python",
   "name": "python",
   "nbconvert_exporter": "python",
   "pygments_lexer": "ipython3",
   "version": "3.9.7"
  }
 },
 "nbformat": 4,
 "nbformat_minor": 5
}
