{
 "cells": [
  {
   "cell_type": "code",
   "execution_count": 1,
   "id": "5139c613",
   "metadata": {},
   "outputs": [],
   "source": [
    "import import_ipynb"
   ]
  },
  {
   "cell_type": "code",
   "execution_count": 2,
   "id": "4e0ca158",
   "metadata": {},
   "outputs": [
    {
     "name": "stdout",
     "output_type": "stream",
     "text": [
      "importing Jupyter notebook from Minipro.ipynb\n",
      "WARNING:tensorflow:From D:\\Anaconda\\lib\\site-packages\\tensorflow\\python\\compat\\v2_compat.py:107: disable_resource_variables (from tensorflow.python.ops.variable_scope) is deprecated and will be removed in a future version.\n",
      "Instructions for updating:\n",
      "non-resource variables are not supported in the long term\n",
      "Saving features for person id- 001\n",
      "Saving features for person id- 002\n",
      "Saving features for person id- 003\n",
      "Saving features for person id- 004\n",
      "Saving features for person id- 005\n",
      "Saving features for person id- 006\n",
      "Saving features for person id- 007\n",
      "Saving features for person id- 008\n",
      "Saving features for person id- 009\n",
      "Saving features for person id- 010\n",
      "Saving features for person id- 011\n",
      "Saving features for person id- 012\n",
      "Genuine Image\n"
     ]
    }
   ],
   "source": [
    "import Minipro"
   ]
  },
  {
   "cell_type": "code",
   "execution_count": 3,
   "id": "5ea6fe3c",
   "metadata": {},
   "outputs": [],
   "source": [
    "from Minipro import readData"
   ]
  },
  {
   "cell_type": "code",
   "execution_count": 4,
   "id": "9e864ea3",
   "metadata": {},
   "outputs": [],
   "source": [
    "import tkinter as tk"
   ]
  },
  {
   "cell_type": "code",
   "execution_count": 5,
   "id": "7b1a2955",
   "metadata": {},
   "outputs": [],
   "source": [
    "from tkinter import filedialog\n",
    "from tkinter.filedialog import askopenfile"
   ]
  },
  {
   "cell_type": "code",
   "execution_count": 79,
   "id": "70cfd389",
   "metadata": {},
   "outputs": [
    {
     "name": "stdout",
     "output_type": "stream",
     "text": [
      "Genuine Image\n"
     ]
    }
   ],
   "source": [
    "from tkinter import *\n",
    "from PIL import Image, ImageTk\n",
    "from Minipro import readData\n",
    "\n",
    "my_w = tk.Tk()\n",
    "my_w.geometry(\"400x200\")  # Size of the window \n",
    "my_w.title('SVS')\n",
    "my_font1=('times', 18, 'bold')\n",
    "font2 = ('Nimbus Mono L', 10)\n",
    "\n",
    "l1 = tk.Label(my_w,text='ADD DETAILS',width=30,font=my_font1)  \n",
    "l1.grid(row=2,column=1,pady=10)\n",
    "\n",
    "prevtext = tk.Label(my_w,text=\"Enter the Person's ID\",width=30, font=font2) \n",
    "prevtext.grid(row=3,column=1)\n",
    "textBox=Text(my_w,  height=1, width=17)\n",
    "textBox.grid(row=4,column=1,pady=10) \n",
    "\n",
    "\n",
    "b1 = tk.Button(my_w, text='UPLOAD IMAGE', \n",
    "   width=20,command = lambda:upload_file())\n",
    "b1.grid(row=6,column=1,pady=5) \n",
    "    \n",
    "\n",
    "def retrieve_input():\n",
    "    return textBox.get(\"1.0\",\"end-1c\")\n",
    "    \n",
    "def upload_file():\n",
    "    global img\n",
    "    f_types = [('Jpg Files', '*.png')]\n",
    "    filename = filedialog.askopenfilename(filetypes=f_types)\n",
    "    inputValue=retrieve_input()\n",
    "    readData(str(inputValue),str(filename))\n",
    "    \n",
    "my_w.mainloop()  "
   ]
  }
 ],
 "metadata": {
  "kernelspec": {
   "display_name": "Python 3 (ipykernel)",
   "language": "python",
   "name": "python3"
  },
  "language_info": {
   "codemirror_mode": {
    "name": "ipython",
    "version": 3
   },
   "file_extension": ".py",
   "mimetype": "text/x-python",
   "name": "python",
   "nbconvert_exporter": "python",
   "pygments_lexer": "ipython3",
   "version": "3.9.7"
  }
 },
 "nbformat": 4,
 "nbformat_minor": 5
}
